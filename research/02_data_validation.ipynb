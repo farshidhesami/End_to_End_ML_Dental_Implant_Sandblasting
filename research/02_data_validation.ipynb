{
 "cells": [
  {
   "cell_type": "code",
   "execution_count": null,
   "metadata": {},
   "outputs": [],
   "source": [
    "import os"
   ]
  },
  {
   "cell_type": "code",
   "execution_count": null,
   "metadata": {},
   "outputs": [],
   "source": [
    "%pwd"
   ]
  },
  {
   "cell_type": "code",
   "execution_count": null,
   "metadata": {},
   "outputs": [],
   "source": [
    "os.chdir(\"../\")"
   ]
  },
  {
   "cell_type": "code",
   "execution_count": null,
   "metadata": {},
   "outputs": [],
   "source": [
    "%pwd"
   ]
  },
  {
   "cell_type": "code",
   "execution_count": null,
   "metadata": {},
   "outputs": [],
   "source": [
    "import pandas as pd"
   ]
  },
  {
   "cell_type": "code",
   "execution_count": null,
   "metadata": {},
   "outputs": [],
   "source": [
    "DATA_PATH = 'data/Sandblasting-Condition.csv'\n",
    "data = pd.read_csv(DATA_PATH)"
   ]
  },
  {
   "cell_type": "code",
   "execution_count": null,
   "metadata": {},
   "outputs": [],
   "source": [
    "data.head()"
   ]
  },
  {
   "cell_type": "code",
   "execution_count": null,
   "metadata": {},
   "outputs": [],
   "source": [
    "data.columns"
   ]
  },
  {
   "cell_type": "code",
   "execution_count": null,
   "metadata": {},
   "outputs": [],
   "source": [
    "data.info()"
   ]
  },
  {
   "cell_type": "code",
   "execution_count": 1,
   "metadata": {},
   "outputs": [
    {
     "name": "stdout",
     "output_type": "stream",
     "text": [
      "<class 'pandas.core.frame.DataFrame'>\n",
      "MultiIndex: 140 entries, ('Angle of Sandblasting', 'Pressure of Sandblasting (bar)', 'Temperture of Acid Etching', 'Time of Acid Etching (min)', 'Voltage of Anodizing (v)', 'Time of  Anodizing (min)', '(Sa) Average of Surface roughness (micrometer)', 'Cell Viability (%)') to ('>>>>>>> f9a302bdff19857456477a25f0b49431f1a09e9d', nan, nan, nan, nan, nan, nan, nan)\n",
      "Data columns (total 1 columns):\n",
      " #   Column        Non-Null Count  Dtype \n",
      "---  ------        --------------  ----- \n",
      " 0   <<<<<<< HEAD  138 non-null    object\n",
      "dtypes: object(1)\n",
      "memory usage: 6.8+ KB\n",
      "[2024-07-05 16:49:29,837: INFO: common: yaml file: config\\config.yaml loaded successfully]\n",
      "[2024-07-05 16:49:29,884: INFO: common: yaml file: params.yaml loaded successfully]\n",
      "[2024-07-05 16:49:29,892: INFO: common: yaml file: schema.yaml loaded successfully]\n",
      "[2024-07-05 16:49:29,894: INFO: common: created directory at: artifacts]\n",
      "[2024-07-05 16:49:29,897: INFO: common: created directory at: artifacts/data_validation]\n",
      "[2024-07-05 16:49:29,906: INFO: 1764184989: Column Angle of Sandblasting is valid]\n",
      "[2024-07-05 16:49:29,908: INFO: 1764184989: Column Pressure of Sandblasting (bar) is valid]\n",
      "[2024-07-05 16:49:29,910: INFO: 1764184989: Column Temperture of Acid Etching is valid]\n",
      "[2024-07-05 16:49:29,912: INFO: 1764184989: Column Time of Acid Etching (min) is valid]\n",
      "[2024-07-05 16:49:29,914: INFO: 1764184989: Column Voltage of Anodizing (v) is valid]\n",
      "[2024-07-05 16:49:29,916: INFO: 1764184989: Column Time of  Anodizing (min) is valid]\n",
      "[2024-07-05 16:49:29,917: INFO: 1764184989: Column (Sa) Average of Surface roughness (micrometer) is valid]\n",
      "[2024-07-05 16:49:29,924: INFO: 1764184989: Column Cell Viability (%) is valid]\n",
      "[2024-07-05 16:49:29,926: INFO: 1764184989: Column Result (1=Passed, 0=Failed) is valid]\n",
      "[2024-07-05 16:49:29,929: INFO: 1764184989: Validation status: True]\n"
     ]
    }
   ],
   "source": [
    "from pathlib import Path\n",
    "from dataclasses import dataclass\n",
    "from Dental_Implant_Sandblasting import logger\n",
    "from Dental_Implant_Sandblasting.utils.common import read_yaml, create_directories\n",
    "from Dental_Implant_Sandblasting.constants import CONFIG_FILE_PATH, PARAMS_FILE_PATH, SCHEMA_FILE_PATH\n",
    "\n",
    "@dataclass(frozen=True)\n",
    "class DataValidationConfig:\n",
    "    root_dir: Path\n",
    "    STATUS_FILE: str\n",
    "    unzip_data_dir: Path\n",
    "    all_schema: dict\n",
    "\n",
    "class ConfigurationManager:\n",
    "    def __init__(self, config_filepath=CONFIG_FILE_PATH, params_filepath=PARAMS_FILE_PATH, schema_filepath=SCHEMA_FILE_PATH):\n",
    "        self.config = read_yaml(config_filepath)\n",
    "        self.params = read_yaml(params_filepath)\n",
    "        self.schema = read_yaml(schema_filepath)\n",
    "        create_directories([self.config.artifacts_root])\n",
    "\n",
    "    def get_data_validation_config(self) -> DataValidationConfig:\n",
    "        config = self.config.data_validation\n",
    "        schema = {**self.schema.COLUMNS, **self.schema.TARGET_COLUMNS}\n",
    "        create_directories([config.root_dir])\n",
    "        data_validation_config = DataValidationConfig(\n",
    "            root_dir=config.root_dir,\n",
    "            unzip_data_dir=config.unzip_data_dir,\n",
    "            STATUS_FILE=config.STATUS_FILE,\n",
    "            all_schema=schema,\n",
    "        )\n",
    "        return data_validation_config\n",
    "\n",
    "class DataValidation:\n",
    "    def __init__(self, config: DataValidationConfig):\n",
    "        self.config = config\n",
    "\n",
    "    def validate_all_columns(self) -> bool:\n",
    "        try:\n",
    "            validation_status = True\n",
    "\n",
    "            data = pd.read_csv(self.config.unzip_data_dir)\n",
    "            all_cols = list(data.columns)\n",
    "\n",
    "            all_schema = list(self.config.all_schema.keys())\n",
    "\n",
    "            for col in all_cols:\n",
    "                if col not in all_schema:\n",
    "                    validation_status = False\n",
    "                    logger.error(f\"Column {col} not found in schema\")\n",
    "                    break\n",
    "                else:\n",
    "                    logger.info(f\"Column {col} is valid\")\n",
    "\n",
    "            with open(self.config.STATUS_FILE, 'w') as f:\n",
    "                f.write(f\"Validation status: {validation_status}\")\n",
    "\n",
    "            return validation_status\n",
    "\n",
    "        except Exception as e:\n",
    "            logger.exception(e)\n",
    "            raise e\n",
    "\n",
    "# Pipeline execution\n",
    "try:\n",
    "    config = ConfigurationManager()\n",
    "    data_validation_config = config.get_data_validation_config()\n",
    "    data_validation = DataValidation(config=data_validation_config)\n",
    "    validation_status = data_validation.validate_all_columns()\n",
    "    logger.info(f\"Validation status: {validation_status}\")\n",
    "except Exception as e:\n",
    "    logger.exception(e)\n",
    "    raise e\n"
   ]
  }
 ],
 "metadata": {
  "kernelspec": {
   "display_name": "mlProject",
   "language": "python",
   "name": "python3"
  },
  "language_info": {
   "codemirror_mode": {
    "name": "ipython",
    "version": 3
   },
   "file_extension": ".py",
   "mimetype": "text/x-python",
   "name": "python",
   "nbconvert_exporter": "python",
   "pygments_lexer": "ipython3",
   "version": "3.8.18"
  }
 },
 "nbformat": 4,
 "nbformat_minor": 2
}
