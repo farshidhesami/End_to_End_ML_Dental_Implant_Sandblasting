{
 "cells": [
  {
   "cell_type": "code",
   "execution_count": 1,
   "metadata": {},
   "outputs": [],
   "source": [
    "import os"
   ]
  },
  {
   "cell_type": "code",
   "execution_count": 2,
   "metadata": {},
   "outputs": [
    {
     "data": {
      "text/plain": [
       "'d:\\\\iNeuron_Projects\\\\End_to_End_ML_Dental_Implant_Sandblasting\\\\research'"
      ]
     },
     "execution_count": 2,
     "metadata": {},
     "output_type": "execute_result"
    }
   ],
   "source": [
    "%pwd"
   ]
  },
  {
   "cell_type": "code",
   "execution_count": 3,
   "metadata": {},
   "outputs": [],
   "source": [
    "os.chdir(\"../\")"
   ]
  },
  {
   "cell_type": "code",
   "execution_count": 4,
   "metadata": {},
   "outputs": [
    {
     "data": {
      "text/plain": [
       "'d:\\\\iNeuron_Projects\\\\End_to_End_ML_Dental_Implant_Sandblasting'"
      ]
     },
     "execution_count": 4,
     "metadata": {},
     "output_type": "execute_result"
    }
   ],
   "source": [
    "%pwd"
   ]
  },
  {
   "cell_type": "code",
   "execution_count": 5,
   "metadata": {},
   "outputs": [],
   "source": [
    "import pandas as pd "
   ]
  },
  {
   "cell_type": "code",
   "execution_count": 6,
   "metadata": {},
   "outputs": [],
   "source": [
    "DATA_PATH = 'data/Sandblasting-Condition.csv'\n",
    "data = pd.read_csv(DATA_PATH)"
   ]
  },
  {
   "cell_type": "code",
   "execution_count": 7,
   "metadata": {},
   "outputs": [
    {
     "data": {
      "text/html": [
       "<div>\n",
       "<style scoped>\n",
       "    .dataframe tbody tr th:only-of-type {\n",
       "        vertical-align: middle;\n",
       "    }\n",
       "\n",
       "    .dataframe tbody tr th {\n",
       "        vertical-align: top;\n",
       "    }\n",
       "\n",
       "    .dataframe thead th {\n",
       "        text-align: right;\n",
       "    }\n",
       "</style>\n",
       "<table border=\"1\" class=\"dataframe\">\n",
       "  <thead>\n",
       "    <tr style=\"text-align: right;\">\n",
       "      <th></th>\n",
       "      <th>Angle of Sandblasting</th>\n",
       "      <th>Pressure of Sandblasting (bar)</th>\n",
       "      <th>Temperture of Acid Etching</th>\n",
       "      <th>Time of Acid Etching (min)</th>\n",
       "      <th>Voltage of Anodizing (v)</th>\n",
       "      <th>Time of  Anodizing (min)</th>\n",
       "      <th>(Sa) Average of Surface roughness (micrometer)</th>\n",
       "      <th>Cell Viability (%)</th>\n",
       "      <th>Result (1=Passed, 0=Failed)</th>\n",
       "    </tr>\n",
       "  </thead>\n",
       "  <tbody>\n",
       "    <tr>\n",
       "      <th>0</th>\n",
       "      <td>30</td>\n",
       "      <td>3</td>\n",
       "      <td>25</td>\n",
       "      <td>3</td>\n",
       "      <td>80</td>\n",
       "      <td>1</td>\n",
       "      <td>0.746</td>\n",
       "      <td>0</td>\n",
       "      <td>0</td>\n",
       "    </tr>\n",
       "    <tr>\n",
       "      <th>1</th>\n",
       "      <td>40</td>\n",
       "      <td>3</td>\n",
       "      <td>25</td>\n",
       "      <td>3</td>\n",
       "      <td>80</td>\n",
       "      <td>1</td>\n",
       "      <td>0.813</td>\n",
       "      <td>0</td>\n",
       "      <td>0</td>\n",
       "    </tr>\n",
       "    <tr>\n",
       "      <th>2</th>\n",
       "      <td>50</td>\n",
       "      <td>3</td>\n",
       "      <td>25</td>\n",
       "      <td>3</td>\n",
       "      <td>80</td>\n",
       "      <td>1</td>\n",
       "      <td>0.952</td>\n",
       "      <td>0</td>\n",
       "      <td>0</td>\n",
       "    </tr>\n",
       "    <tr>\n",
       "      <th>3</th>\n",
       "      <td>30</td>\n",
       "      <td>4</td>\n",
       "      <td>25</td>\n",
       "      <td>3</td>\n",
       "      <td>80</td>\n",
       "      <td>1</td>\n",
       "      <td>1.207</td>\n",
       "      <td>0</td>\n",
       "      <td>0</td>\n",
       "    </tr>\n",
       "    <tr>\n",
       "      <th>4</th>\n",
       "      <td>40</td>\n",
       "      <td>4</td>\n",
       "      <td>25</td>\n",
       "      <td>3</td>\n",
       "      <td>80</td>\n",
       "      <td>1</td>\n",
       "      <td>1.298</td>\n",
       "      <td>0</td>\n",
       "      <td>0</td>\n",
       "    </tr>\n",
       "  </tbody>\n",
       "</table>\n",
       "</div>"
      ],
      "text/plain": [
       "  Angle of Sandblasting Pressure of Sandblasting (bar)  \\\n",
       "0                    30                              3   \n",
       "1                    40                              3   \n",
       "2                    50                              3   \n",
       "3                    30                              4   \n",
       "4                    40                              4   \n",
       "\n",
       "  Temperture of Acid Etching Time of Acid Etching (min)  \\\n",
       "0                         25                          3   \n",
       "1                         25                          3   \n",
       "2                         25                          3   \n",
       "3                         25                          3   \n",
       "4                         25                          3   \n",
       "\n",
       "  Voltage of Anodizing (v) Time of  Anodizing (min)  \\\n",
       "0                       80                        1   \n",
       "1                       80                        1   \n",
       "2                       80                        1   \n",
       "3                       80                        1   \n",
       "4                       80                        1   \n",
       "\n",
       "  (Sa) Average of Surface roughness (micrometer) Cell Viability (%)  \\\n",
       "0                                          0.746                  0   \n",
       "1                                          0.813                  0   \n",
       "2                                          0.952                  0   \n",
       "3                                          1.207                  0   \n",
       "4                                          1.298                  0   \n",
       "\n",
       "  Result (1=Passed, 0=Failed)  \n",
       "0                           0  \n",
       "1                           0  \n",
       "2                           0  \n",
       "3                           0  \n",
       "4                           0  "
      ]
     },
     "execution_count": 7,
     "metadata": {},
     "output_type": "execute_result"
    }
   ],
   "source": [
    "data.head()"
   ]
  },
  {
   "cell_type": "code",
   "execution_count": 8,
   "metadata": {},
   "outputs": [
    {
     "data": {
      "text/plain": [
       "Index(['Angle of Sandblasting', 'Pressure of Sandblasting (bar)',\n",
       "       'Temperture of Acid Etching', 'Time of Acid Etching (min)',\n",
       "       'Voltage of Anodizing (v)', 'Time of  Anodizing (min)',\n",
       "       '(Sa) Average of Surface roughness (micrometer)', 'Cell Viability (%)',\n",
       "       'Result (1=Passed, 0=Failed)'],\n",
       "      dtype='object')"
      ]
     },
     "execution_count": 8,
     "metadata": {},
     "output_type": "execute_result"
    }
   ],
   "source": [
    "data.columns"
   ]
  },
  {
   "cell_type": "code",
   "execution_count": 9,
   "metadata": {},
   "outputs": [
    {
     "name": "stdout",
     "output_type": "stream",
     "text": [
      "<class 'pandas.core.frame.DataFrame'>\n",
      "RangeIndex: 139 entries, 0 to 138\n",
      "Data columns (total 9 columns):\n",
      " #   Column                                          Non-Null Count  Dtype \n",
      "---  ------                                          --------------  ----- \n",
      " 0   Angle of Sandblasting                           139 non-null    object\n",
      " 1   Pressure of Sandblasting (bar)                  137 non-null    object\n",
      " 2   Temperture of Acid Etching                      137 non-null    object\n",
      " 3   Time of Acid Etching (min)                      137 non-null    object\n",
      " 4   Voltage of Anodizing (v)                        137 non-null    object\n",
      " 5   Time of  Anodizing (min)                        137 non-null    object\n",
      " 6   (Sa) Average of Surface roughness (micrometer)  137 non-null    object\n",
      " 7   Cell Viability (%)                              137 non-null    object\n",
      " 8   Result (1=Passed, 0=Failed)                     137 non-null    object\n",
      "dtypes: object(9)\n",
      "memory usage: 9.9+ KB\n"
     ]
    }
   ],
   "source": [
    "data.info()"
   ]
  },
  {
   "cell_type": "markdown",
   "metadata": {},
   "source": [
    "### Make data"
   ]
  },
  {
   "cell_type": "code",
   "execution_count": 10,
   "metadata": {},
   "outputs": [
    {
     "name": "stdout",
     "output_type": "stream",
     "text": [
      "[2024-07-06 23:52:01,655: INFO: common: yaml file: config\\config.yaml loaded successfully]\n",
      "[2024-07-06 23:52:01,674: INFO: common: yaml file: params.yaml loaded successfully]\n",
      "[2024-07-06 23:52:01,687: INFO: common: yaml file: schema.yaml loaded successfully]\n",
      "[2024-07-06 23:52:01,690: INFO: common: created directory at: artifacts]\n",
      "[2024-07-06 23:52:01,697: INFO: common: created directory at: artifacts/data_validation]\n",
      "[2024-07-06 23:52:01,708: INFO: 363709866: Column Angle of Sandblasting is valid]\n",
      "[2024-07-06 23:52:01,711: INFO: 363709866: Column Pressure of Sandblasting (bar) is valid]\n",
      "[2024-07-06 23:52:01,717: INFO: 363709866: Column Temperture of Acid Etching is valid]\n",
      "[2024-07-06 23:52:01,718: INFO: 363709866: Column Time of Acid Etching (min) is valid]\n",
      "[2024-07-06 23:52:01,720: INFO: 363709866: Column Voltage of Anodizing (v) is valid]\n",
      "[2024-07-06 23:52:01,722: INFO: 363709866: Column Time of  Anodizing (min) is valid]\n",
      "[2024-07-06 23:52:01,724: INFO: 363709866: Column (Sa) Average of Surface roughness (micrometer) is valid]\n",
      "[2024-07-06 23:52:01,726: INFO: 363709866: Column Cell Viability (%) is valid]\n",
      "[2024-07-06 23:52:01,731: INFO: 363709866: Column Result (1=Passed, 0=Failed) is valid]\n",
      "[2024-07-06 23:52:01,744: INFO: 363709866: Validation status: True]\n"
     ]
    }
   ],
   "source": [
    "from pathlib import Path\n",
    "from dataclasses import dataclass\n",
    "from Dental_Implant_Sandblasting import logger\n",
    "from Dental_Implant_Sandblasting.utils.common import read_yaml, create_directories\n",
    "from Dental_Implant_Sandblasting.constants import CONFIG_FILE_PATH, PARAMS_FILE_PATH, SCHEMA_FILE_PATH\n",
    "\n",
    "@dataclass(frozen=True)\n",
    "class DataValidationConfig:\n",
    "    root_dir: Path\n",
    "    STATUS_FILE: str\n",
    "    unzip_data_dir: Path\n",
    "    all_schema: dict\n",
    "\n",
    "class ConfigurationManager:\n",
    "    def __init__(self, config_filepath=CONFIG_FILE_PATH, params_filepath=PARAMS_FILE_PATH, schema_filepath=SCHEMA_FILE_PATH):\n",
    "        self.config = read_yaml(config_filepath)\n",
    "        self.params = read_yaml(params_filepath)\n",
    "        self.schema = read_yaml(schema_filepath)\n",
    "        create_directories([self.config.artifacts_root])\n",
    "\n",
    "    def get_data_validation_config(self) -> DataValidationConfig:\n",
    "        config = self.config.data_validation\n",
    "        schema = {**self.schema.COLUMNS, **self.schema.TARGET_COLUMNS}\n",
    "        create_directories([config.root_dir])\n",
    "        data_validation_config = DataValidationConfig(\n",
    "            root_dir=config.root_dir,\n",
    "            unzip_data_dir=config.unzip_data_dir,\n",
    "            STATUS_FILE=config.STATUS_FILE,\n",
    "            all_schema=schema,\n",
    "        )\n",
    "        return data_validation_config\n",
    "\n",
    "class DataValidation:\n",
    "    def __init__(self, config: DataValidationConfig):\n",
    "        self.config = config\n",
    "\n",
    "    def validate_all_columns(self) -> bool:\n",
    "        try:\n",
    "            validation_status = True  # Initialize to True assuming validation will pass\n",
    "\n",
    "            data = pd.read_csv(self.config.unzip_data_dir)\n",
    "            all_cols = list(data.columns)\n",
    "\n",
    "            # Combine schema columns and target columns into a single list\n",
    "            all_schema = list(self.config.all_schema.keys())\n",
    "\n",
    "            for col in all_cols:\n",
    "                if col not in all_schema:\n",
    "                    validation_status = False  # Set to False if any column is not found in the schema\n",
    "                    logger.error(f\"Column {col} not found in schema\")\n",
    "                    break  # Stop further checks if a mismatch is found\n",
    "                else:\n",
    "                    logger.info(f\"Column {col} is valid\")\n",
    "\n",
    "            # Write the validation status to the status file\n",
    "            with open(self.config.STATUS_FILE, 'w') as f:\n",
    "                f.write(f\"Validation status: {validation_status}\")\n",
    "\n",
    "            return validation_status  # Return the final validation status\n",
    "\n",
    "        except Exception as e:\n",
    "            logger.exception(e)\n",
    "            raise e\n",
    "\n",
    "# Pipeline execution\n",
    "try:\n",
    "    config = ConfigurationManager()\n",
    "    data_validation_config = config.get_data_validation_config()\n",
    "    data_validation = DataValidation(config=data_validation_config)\n",
    "    validation_status = data_validation.validate_all_columns()\n",
    "    logger.info(f\"Validation status: {validation_status}\")\n",
    "except Exception as e:\n",
    "    logger.exception(e)\n",
    "    raise e\n"
   ]
  }
 ],
 "metadata": {
  "kernelspec": {
   "display_name": "mlProject",
   "language": "python",
   "name": "python3"
  },
  "language_info": {
   "codemirror_mode": {
    "name": "ipython",
    "version": 3
   },
   "file_extension": ".py",
   "mimetype": "text/x-python",
   "name": "python",
   "nbconvert_exporter": "python",
   "pygments_lexer": "ipython3",
   "version": "3.8.18"
  }
 },
 "nbformat": 4,
 "nbformat_minor": 2
}
