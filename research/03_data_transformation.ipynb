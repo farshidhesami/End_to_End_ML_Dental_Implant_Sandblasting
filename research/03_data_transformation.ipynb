{
 "cells": [
  {
   "cell_type": "code",
   "execution_count": 1,
   "metadata": {},
   "outputs": [],
   "source": [
    "import os"
   ]
  },
  {
   "cell_type": "code",
   "execution_count": 2,
   "metadata": {},
   "outputs": [
    {
     "data": {
      "text/plain": [
       "'d:\\\\iNeuron_Projects\\\\End_to_End_ML_Dental_Implant_Sandblasting\\\\research'"
      ]
     },
     "execution_count": 2,
     "metadata": {},
     "output_type": "execute_result"
    }
   ],
   "source": [
    "%pwd"
   ]
  },
  {
   "cell_type": "code",
   "execution_count": 3,
   "metadata": {},
   "outputs": [],
   "source": [
    "os.chdir(\"../\")"
   ]
  },
  {
   "cell_type": "code",
   "execution_count": 4,
   "metadata": {},
   "outputs": [
    {
     "data": {
      "text/plain": [
       "'d:\\\\iNeuron_Projects\\\\End_to_End_ML_Dental_Implant_Sandblasting'"
      ]
     },
     "execution_count": 4,
     "metadata": {},
     "output_type": "execute_result"
    }
   ],
   "source": [
    "%pwd"
   ]
  },
  {
   "cell_type": "code",
   "execution_count": 5,
   "metadata": {},
   "outputs": [
    {
     "name": "stdout",
     "output_type": "stream",
     "text": [
      "[2024-07-06 18:20:49,409: INFO: common: yaml file: config\\config.yaml loaded successfully]\n",
      "[2024-07-06 18:20:49,453: INFO: common: yaml file: params.yaml loaded successfully]\n",
      "[2024-07-06 18:20:49,458: INFO: common: created directory at: artifacts]\n",
      "[2024-07-06 18:20:49,461: INFO: common: created directory at: artifacts/data_transformation]\n",
      "[2024-07-06 18:20:49,474: INFO: 3810269099: Data loaded from artifacts\\data_ingestion\\Sandblasting-Condition.csv]\n",
      "[2024-07-06 18:20:49,525: INFO: 3810269099: Missing values handled]\n",
      "[2024-07-06 18:20:49,544: INFO: 3810269099: Feature engineering completed]\n",
      "[2024-07-06 18:20:49,589: INFO: 3810269099: Train-test split completed with train shape: (111, 30) and test shape: (28, 30)]\n"
     ]
    }
   ],
   "source": [
    "import pandas as pd\n",
    "import numpy as np\n",
    "from pathlib import Path\n",
    "from dataclasses import dataclass\n",
    "from Dental_Implant_Sandblasting import logger\n",
    "from Dental_Implant_Sandblasting.utils.common import read_yaml, create_directories\n",
    "from Dental_Implant_Sandblasting.constants import CONFIG_FILE_PATH, PARAMS_FILE_PATH, SCHEMA_FILE_PATH\n",
    "from sklearn.model_selection import train_test_split\n",
    "from sklearn.preprocessing import StandardScaler, PolynomialFeatures\n",
    "from sklearn.impute import SimpleImputer\n",
    "\n",
    "@dataclass(frozen=True)\n",
    "class DataTransformationConfig:\n",
    "    root_dir: Path\n",
    "    data_path: Path\n",
    "    transformed_train_dir: Path\n",
    "    transformed_test_dir: Path\n",
    "    test_size: float\n",
    "    random_state: int\n",
    "    polynomial_features_degree: int\n",
    "    scaling_method: str\n",
    "\n",
    "class ConfigurationManager:\n",
    "    def __init__(self, config_filepath=CONFIG_FILE_PATH, params_filepath=PARAMS_FILE_PATH, schema_filepath=SCHEMA_FILE_PATH):\n",
    "        self.config = read_yaml(config_filepath)\n",
    "        self.params = read_yaml(params_filepath)\n",
    "        create_directories([self.config.artifacts_root])\n",
    "\n",
    "    def get_data_transformation_config(self) -> DataTransformationConfig:\n",
    "        config = self.config.data_transformation\n",
    "        params = self.params.data_transformation\n",
    "        create_directories([config.root_dir])\n",
    "        data_transformation_config = DataTransformationConfig(\n",
    "            root_dir=Path(config.root_dir),\n",
    "            data_path=Path(config.data_path),\n",
    "            transformed_train_dir=Path(config.root_dir) / \"train.csv\",\n",
    "            transformed_test_dir=Path(config.root_dir) / \"test.csv\",\n",
    "            test_size=params['test_size'],\n",
    "            random_state=params['random_state'],\n",
    "            polynomial_features_degree=params['polynomial_features_degree'],\n",
    "            scaling_method=params['scaling_method']\n",
    "        )\n",
    "        return data_transformation_config\n",
    "\n",
    "class DataTransformation:\n",
    "    def __init__(self, config: DataTransformationConfig):\n",
    "        self.config = config\n",
    "\n",
    "    def load_data(self):\n",
    "        data = pd.read_csv(self.config.data_path)\n",
    "        logger.info(f\"Data loaded from {self.config.data_path}\")\n",
    "        return data\n",
    "\n",
    "    def preprocess_data(self, data):\n",
    "        # Convert columns to numeric, forcing any errors to NaN\n",
    "        for col in data.columns:\n",
    "            data[col] = pd.to_numeric(data[col], errors='coerce')\n",
    "        \n",
    "        # Handle missing values by imputing\n",
    "        imputer = SimpleImputer(strategy='mean')\n",
    "        data_imputed = pd.DataFrame(imputer.fit_transform(data))\n",
    "        data_imputed.columns = data.columns\n",
    "        \n",
    "        logger.info(\"Missing values handled\")\n",
    "        return data_imputed\n",
    "\n",
    "    def feature_engineering(self, data):\n",
    "        # Generating polynomial features\n",
    "        poly = PolynomialFeatures(degree=self.config.polynomial_features_degree, include_bias=False)\n",
    "        poly_features = poly.fit_transform(data.drop(columns=['(Sa) Average of Surface roughness (micrometer)', 'Cell Viability (%)', 'Result (1=Passed, 0=Failed)']))\n",
    "        \n",
    "        # Scaling features\n",
    "        scaler = StandardScaler()\n",
    "        scaled_features = scaler.fit_transform(poly_features)\n",
    "        \n",
    "        # Create a DataFrame with the new features\n",
    "        feature_columns = poly.get_feature_names_out(data.columns[:-3])\n",
    "        engineered_data = pd.DataFrame(scaled_features, columns=feature_columns)\n",
    "        \n",
    "        # Add target columns back to the DataFrame\n",
    "        engineered_data['(Sa) Average of Surface roughness (micrometer)'] = data['(Sa) Average of Surface roughness (micrometer)'].values\n",
    "        engineered_data['Cell Viability (%)'] = data['Cell Viability (%)'].values\n",
    "        engineered_data['Result (1=Passed, 0=Failed)'] = data['Result (1=Passed, 0=Failed)'].values\n",
    "        \n",
    "        logger.info(\"Feature engineering completed\")\n",
    "        return engineered_data\n",
    "\n",
    "    def train_test_splitting(self, data):\n",
    "        train, test = train_test_split(data, test_size=self.config.test_size, random_state=self.config.random_state)\n",
    "\n",
    "        train.to_csv(self.config.transformed_train_dir, index=False)\n",
    "        test.to_csv(self.config.transformed_test_dir, index=False)\n",
    "\n",
    "        logger.info(f\"Train-test split completed with train shape: {train.shape} and test shape: {test.shape}\")\n",
    "\n",
    "    def execute(self):\n",
    "        data = self.load_data()\n",
    "        preprocessed_data = self.preprocess_data(data)\n",
    "        engineered_data = self.feature_engineering(preprocessed_data)\n",
    "        self.train_test_splitting(engineered_data)\n",
    "\n",
    "# Pipeline execution\n",
    "try:\n",
    "    config = ConfigurationManager()\n",
    "    data_transformation_config = config.get_data_transformation_config()\n",
    "    data_transformation = DataTransformation(config=data_transformation_config)\n",
    "    data_transformation.execute()\n",
    "except Exception as e:\n",
    "    logger.exception(e)\n",
    "    raise e\n"
   ]
  }
 ],
 "metadata": {
  "kernelspec": {
   "display_name": "mlProject",
   "language": "python",
   "name": "python3"
  },
  "language_info": {
   "codemirror_mode": {
    "name": "ipython",
    "version": 3
   },
   "file_extension": ".py",
   "mimetype": "text/x-python",
   "name": "python",
   "nbconvert_exporter": "python",
   "pygments_lexer": "ipython3",
   "version": "3.8.18"
  }
 },
 "nbformat": 4,
 "nbformat_minor": 2
}
